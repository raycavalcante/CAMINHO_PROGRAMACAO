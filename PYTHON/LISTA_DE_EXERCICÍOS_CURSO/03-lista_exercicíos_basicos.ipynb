{
 "cells": [
  {
   "cell_type": "markdown",
   "id": "0796ce55-b8db-4918-8be4-1a79274d7d7d",
   "metadata": {},
   "source": [
    "# LISTA DE EXERCICÍOS BÁSICOS EM PYTHON"
   ]
  },
  {
   "cell_type": "code",
   "execution_count": 2,
   "id": "ada0a6ca-eb60-446f-9b8e-162d6e68dac1",
   "metadata": {},
   "outputs": [
    {
     "name": "stdin",
     "output_type": "stream",
     "text": [
      "Entre com seu nome:  Ray cavcalcante dos santos\n"
     ]
    },
    {
     "name": "stdout",
     "output_type": "stream",
     "text": [
      "Olá Ray cavcalcante dos santos, seja bem-vindo!\n"
     ]
    }
   ],
   "source": [
    "# QUES01\n",
    "nome = str(input(\"Entre com seu nome: \"))\n",
    "print(f'Olá {nome}, seja bem-vindo!')"
   ]
  },
  {
   "cell_type": "code",
   "execution_count": 4,
   "id": "4dbae68d-bf96-4850-8e50-e850e7107f9a",
   "metadata": {},
   "outputs": [
    {
     "name": "stdin",
     "output_type": "stream",
     "text": [
      "Entre com um número:  10\n",
      "Entre com outro número:  5\n"
     ]
    },
    {
     "name": "stdout",
     "output_type": "stream",
     "text": [
      "Soma de dois números:  15\n"
     ]
    }
   ],
   "source": [
    "# ques02\n",
    "num1 = int(input('Entre com um número: '))\n",
    "num2 = int(input('Entre com outro número: '))\n",
    "soma = num1 + num2\n",
    "print('Soma de dois números: ',soma)"
   ]
  },
  {
   "cell_type": "code",
   "execution_count": 8,
   "id": "15e89fca-33ba-48ac-83f5-35aaa458a19c",
   "metadata": {},
   "outputs": [
    {
     "name": "stdin",
     "output_type": "stream",
     "text": [
      "Entre com um número:  10\n",
      "Entre com outro número:  2\n"
     ]
    },
    {
     "name": "stdout",
     "output_type": "stream",
     "text": [
      "Soma: 12\n",
      "Subtração: 8\n",
      "Divisão: 5.0\n",
      "Multiplicação: 20\n"
     ]
    }
   ],
   "source": [
    "# ques03\n",
    "num1 = int(input('Entre com um número: '))\n",
    "num2 = int(input('Entre com outro número: '))\n",
    "soma = num1 + num2\n",
    "sub = num1 - num2\n",
    "div = num1 / num2\n",
    "mult = num1 * num2\n",
    "print(f'Soma: {soma}')\n",
    "print(f'Subtração: {sub}')\n",
    "print(f'Divisão: {div}')\n",
    "print(f'Multiplicação: {mult}')"
   ]
  },
  {
   "cell_type": "code",
   "execution_count": 9,
   "id": "9da89ad5-9c40-480c-9453-632ad95a6c1c",
   "metadata": {},
   "outputs": [
    {
     "name": "stdin",
     "output_type": "stream",
     "text": [
      "Entre com seu nome:  Ray santos\n",
      "Entre com seu nome:  20\n",
      "Entre com sua cidade:  tefé\n"
     ]
    },
    {
     "name": "stdout",
     "output_type": "stream",
     "text": [
      "Nome:  Ray santos\n",
      "idade:  20\n",
      "Cidade:  tefé\n"
     ]
    }
   ],
   "source": [
    "# ques04\n",
    "nome = str(input('Entre com seu nome: '))\n",
    "idade = int(input('Entre com seu nome: '))\n",
    "cidade = str(input('Entre com sua cidade: '))\n",
    "print('Nome: ',nome)\n",
    "print('idade: ',idade)\n",
    "print('Cidade: ',cidade)"
   ]
  },
  {
   "cell_type": "code",
   "execution_count": 10,
   "id": "5fe2eed0-d6c0-40a3-aed0-dde79baf74f5",
   "metadata": {},
   "outputs": [
    {
     "name": "stdin",
     "output_type": "stream",
     "text": [
      "Entre com um número:  10\n",
      "Entre com outro número:  10\n",
      "Entre com outro número:  10\n"
     ]
    },
    {
     "name": "stdout",
     "output_type": "stream",
     "text": [
      "Média dos 3 números:  10.0\n"
     ]
    }
   ],
   "source": [
    "# ques 05\n",
    "num1 = int(input('Entre com um número: '))\n",
    "num2 = int(input('Entre com outro número: '))\n",
    "num3 = int(input('Entre com outro número: '))\n",
    "media = (num1 + num2 + num3 ) / 3\n",
    "print('Média dos 3 números: ',media)"
   ]
  },
  {
   "cell_type": "code",
   "execution_count": 11,
   "id": "ff92a4e5-b9f7-4e97-82bb-b971d163bbc4",
   "metadata": {},
   "outputs": [
    {
     "name": "stdin",
     "output_type": "stream",
     "text": [
      "Entre com a base:  10\n",
      "Entre com a altura:  2\n"
     ]
    },
    {
     "name": "stdout",
     "output_type": "stream",
     "text": [
      "Àrea: 20\n"
     ]
    }
   ],
   "source": [
    "# ques06\n",
    "base = int(input('Entre com a base: '))\n",
    "altura = int(input('Entre com a altura: '))\n",
    "area = base * altura\n",
    "print(f'Àrea: {area}')"
   ]
  },
  {
   "cell_type": "code",
   "execution_count": 14,
   "id": "03c9a212-b01e-4df4-a831-e1a1124aeca0",
   "metadata": {},
   "outputs": [
    {
     "name": "stdin",
     "output_type": "stream",
     "text": [
      "Entre com a temperatura em celsius:  20\n"
     ]
    },
    {
     "name": "stdout",
     "output_type": "stream",
     "text": [
      "Fahreiheit:  192.0\n"
     ]
    }
   ],
   "source": [
    "# ques 07\n",
    "c = float(input('Entre com a temperatura em celsius: '))\n",
    "f = (c * (8)) + 32\n",
    "print('Fahreiheit: ',f)"
   ]
  },
  {
   "cell_type": "code",
   "execution_count": 15,
   "id": "f8944d99-26de-4499-a43f-1cf2d1cb6fc0",
   "metadata": {},
   "outputs": [
    {
     "name": "stdin",
     "output_type": "stream",
     "text": [
      "Entre com o valor do lado:  10\n"
     ]
    },
    {
     "name": "stdout",
     "output_type": "stream",
     "text": [
      "Perimetro:  40.0\n"
     ]
    }
   ],
   "source": [
    "# ques 08\n",
    "lado = float(input('Entre com o valor do lado: '))\n",
    "p = 4 * lado\n",
    "print('Perimetro: ',p)"
   ]
  },
  {
   "cell_type": "code",
   "execution_count": 19,
   "id": "74824d6d-c11d-41ce-a8af-4cafdba0c069",
   "metadata": {},
   "outputs": [
    {
     "name": "stdin",
     "output_type": "stream",
     "text": [
      "Entre com a quantidade de dinheiro:  200\n",
      "Entre com a taxa de convensão:  10\n"
     ]
    },
    {
     "name": "stdout",
     "output_type": "stream",
     "text": [
      "Seu dinheiro em R$ convertido pra dolar equivale á: 20.0 dolar\n"
     ]
    }
   ],
   "source": [
    "# ques 09\n",
    "valo_dinheiro = float(input('Entre com a quantidade de dinheiro: '))\n",
    "cotacao = float(input('Entre com a taxa de convensão: '))\n",
    "total_dolar = valo_dinheiro / cotacao\n",
    "print(f'Seu dinheiro em R$ convertido pra dolar equivale á: {total_dolar} dolar')"
   ]
  },
  {
   "cell_type": "code",
   "execution_count": 21,
   "id": "7de67336-d30c-4d7f-a5cd-9fbf0a97187f",
   "metadata": {},
   "outputs": [
    {
     "name": "stdin",
     "output_type": "stream",
     "text": [
      "Entre com a base:  10\n",
      "Entre com a altura:  2\n"
     ]
    },
    {
     "name": "stdout",
     "output_type": "stream",
     "text": [
      "Àrea do triângulo:  10.0\n"
     ]
    }
   ],
   "source": [
    "# ques 10\n",
    "base = int(input('Entre com a base: '))\n",
    "altura = int(input('Entre com a altura: '))\n",
    "area = (base * altura ) / 2\n",
    "print('Àrea do triângulo: ',area)"
   ]
  },
  {
   "cell_type": "code",
   "execution_count": 23,
   "id": "3551c9bb-edb6-4f8e-acb0-deb48f3332c5",
   "metadata": {},
   "outputs": [
    {
     "name": "stdin",
     "output_type": "stream",
     "text": [
      "Digite seu peso em (kg):  60\n",
      "Digite sua altuta (m):  1.60\n"
     ]
    },
    {
     "name": "stdout",
     "output_type": "stream",
     "text": [
      "IMC: 23.44\n"
     ]
    }
   ],
   "source": [
    "# ques 11\n",
    "peso = float(input('Digite seu peso em (kg): '))\n",
    "altura= float(input('Digite sua altuta (m): '))\n",
    "imc = peso / (altura * altura)\n",
    "print('IMC: {:.2f}'.format(imc))"
   ]
  },
  {
   "cell_type": "code",
   "execution_count": null,
   "id": "40b90a0b-b6e4-457d-bd3b-400100c8bcd9",
   "metadata": {},
   "outputs": [],
   "source": [
    "# ques12\n",
    "preco = float(input('Entre com o preço do produto: '))\n",
    "per_desconto= float(input('Entre com o preço do produto: '))\n",
    "preso_final = preco - "
   ]
  }
 ],
 "metadata": {
  "kernelspec": {
   "display_name": "Python 3 (ipykernel)",
   "language": "python",
   "name": "python3"
  },
  "language_info": {
   "codemirror_mode": {
    "name": "ipython",
    "version": 3
   },
   "file_extension": ".py",
   "mimetype": "text/x-python",
   "name": "python",
   "nbconvert_exporter": "python",
   "pygments_lexer": "ipython3",
   "version": "3.12.7"
  }
 },
 "nbformat": 4,
 "nbformat_minor": 5
}
