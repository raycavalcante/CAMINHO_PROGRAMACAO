{
 "cells": [
  {
   "cell_type": "markdown",
   "id": "6189b057-2a48-4923-ad0c-03101e51586f",
   "metadata": {},
   "source": [
    "### Capítulo: Estrutura condicional "
   ]
  },
  {
   "cell_type": "code",
   "execution_count": 1,
   "id": "90aacdf4-0770-4101-89f4-436c32f0114b",
   "metadata": {},
   "outputs": [
    {
     "name": "stdin",
     "output_type": "stream",
     "text": [
      "Digite a primeira nota:  45.5\n",
      "Digite a segunda nota:  31.3\n"
     ]
    },
    {
     "name": "stdout",
     "output_type": "stream",
     "text": [
      "NOTA FINAL =  76.8\n"
     ]
    }
   ],
   "source": [
    "# ques01\n",
    "nota1 = float(input('Digite a primeira nota: '))\n",
    "nota2 = float(input('Digite a segunda nota: '))\n",
    "nota_final = nota1 + nota2\n",
    "print('NOTA FINAL = ',nota_final)"
   ]
  },
  {
   "cell_type": "code",
   "execution_count": 18,
   "id": "b7cd17b6-8cb8-46c7-aa40-41f587f9f55f",
   "metadata": {},
   "outputs": [
    {
     "name": "stdin",
     "output_type": "stream",
     "text": [
      "coeficiente A:  1\n",
      "coeficiente B:  3\n",
      "coeficiente C:  4\n"
     ]
    },
    {
     "name": "stdout",
     "output_type": "stream",
     "text": [
      "Esta equação não possui raizes reais\n"
     ]
    }
   ],
   "source": [
    "# ques02\n",
    "import math\n",
    "a = float(input('coeficiente A: '))\n",
    "b = float(input('coeficiente B: '))\n",
    "c = float(input('coeficiente C: '))\n",
    "delta = (b*b) - (4*a*c)\n",
    "\n",
    "if delta < 0:\n",
    "    print('Esta equação não possui raizes reais')\n",
    "else:\n",
    "    x1 = (-(b) + math.sqrt(delta)) / (2 * a)\n",
    "    x2 = (-(b) - math.sqrt(delta)) / (2 * a)\n",
    "    print(f'X1 = {x1:.4f}')\n",
    "    print(f'X2 = {x2:.4f}')"
   ]
  },
  {
   "cell_type": "code",
   "execution_count": 21,
   "id": "7bd2a6a1-9ce5-4dc9-b3c0-5a89d7c27b59",
   "metadata": {},
   "outputs": [
    {
     "name": "stdin",
     "output_type": "stream",
     "text": [
      "Primeiro valor:  10\n",
      "Segundo valor:  6\n"
     ]
    },
    {
     "name": "stdout",
     "output_type": "stream",
     "text": [
      "Menor valor:  6\n"
     ]
    }
   ],
   "source": [
    "# ques03\n",
    "num1 = int(input('Primeiro valor: '))\n",
    "num2 = int(input('Segundo valor: '))\n",
    "menor = num1\n",
    "if num2 < menor:\n",
    "    menor = num2\n",
    "print('Menor valor: ',menor)"
   ]
  },
  {
   "cell_type": "code",
   "execution_count": 23,
   "id": "32ece99d-7d0f-43c9-bfa5-d7dda3be268f",
   "metadata": {},
   "outputs": [
    {
     "name": "stdin",
     "output_type": "stream",
     "text": [
      "Entre com a quantidade de minutos:  103\n"
     ]
    },
    {
     "name": "stdout",
     "output_type": "stream",
     "text": [
      "Valor a pagar:  56\n"
     ]
    }
   ],
   "source": [
    "# ques04\n",
    "min = int(input('Entre com a quantidade de minutos: '))\n",
    "valorPagar = 50\n",
    "if min > 100:\n",
    "    excessao = min - 100\n",
    "    excessao *= 2\n",
    "    valorPagar += excessao\n",
    "print('Valor a pagar: ',valorPagar)"
   ]
  },
  {
   "cell_type": "code",
   "execution_count": 28,
   "id": "921bd46f-b390-4e45-87c9-b7279f32880b",
   "metadata": {},
   "outputs": [
    {
     "name": "stdin",
     "output_type": "stream",
     "text": [
      "Entre comm o preço unitário do produto:  30\n",
      "Quantidade de compra:  3\n",
      "Dinheiro recebido:  70\n"
     ]
    },
    {
     "name": "stdout",
     "output_type": "stream",
     "text": [
      "DINHEIRO INSUFICIENTE. FALTAM 20.0 REAIS\n"
     ]
    }
   ],
   "source": [
    "# ques05\n",
    "preco_unitario = float(input('Entre comm o preço unitário do produto: '))\n",
    "qtd_compra = int(input('Quantidade de compra: '))\n",
    "dinheiro_recebido = float(input('Dinheiro recebido: '))\n",
    "total_pagar = preco_unitario * qtd_compra\n",
    "troco =  dinheiro_recebido - total_pagar\n",
    "saida = f'TROCO: {troco}'\n",
    "if dinheiro_recebido < total_pagar:\n",
    "    troco =  total_pagar - dinheiro_recebido\n",
    "    saida = f'DINHEIRO INSUFICIENTE. FALTAM {troco} REAIS'\n",
    "print(saida)"
   ]
  },
  {
   "cell_type": "code",
   "execution_count": 19,
   "id": "fba9a266-8e2c-4721-bcb5-b1195ca07ecb",
   "metadata": {},
   "outputs": [
    {
     "name": "stdin",
     "output_type": "stream",
     "text": [
      "Digite a media da glicose:  12\n"
     ]
    },
    {
     "name": "stdout",
     "output_type": "stream",
     "text": [
      "Classificação: Normal\n"
     ]
    }
   ],
   "source": [
    "# ques06\n",
    "glicose = float(input('Digite a media da glicose: '))\n",
    "classificacao = ''\n",
    "match glicose:\n",
    "    case _ if glicose < 101:\n",
    "        classificacao = 'Normal'\n",
    "    case _ if glicose > 100 and glicose < 141:\n",
    "        classificacao = 'Elevado'\n",
    "    case _ if glicose > 140:\n",
    "        classificacao = 'Diabetes'\n",
    "print('Classificação: '+classificacao)"
   ]
  },
  {
   "cell_type": "code",
   "execution_count": 33,
   "id": "93a1ae5b-8105-4f65-8083-3af109a3d94a",
   "metadata": {},
   "outputs": [
    {
     "name": "stdout",
     "output_type": "stream",
     "text": [
      "Digite as três distância: \n"
     ]
    },
    {
     "name": "stdin",
     "output_type": "stream",
     "text": [
      " 1\n",
      " 2\n",
      " 3\n"
     ]
    },
    {
     "name": "stdout",
     "output_type": "stream",
     "text": [
      "Maior distância:  3.0\n"
     ]
    }
   ],
   "source": [
    "# QUES07\n",
    "print('Digite as três distância: ')\n",
    "d1 = float(input())\n",
    "d2 = float(input())\n",
    "d3 = float(input())\n",
    "maior_distancia = d1\n",
    "if d2 > maior_distancia:\n",
    "    maior_distancia = d2\n",
    "if d3 > maior_distancia:\n",
    "    maior_distancia = d3\n",
    "print('Maior distância: ',maior_distancia)"
   ]
  },
  {
   "cell_type": "code",
   "execution_count": 56,
   "id": "53d5c585-046b-4827-aa89-9a2b1db6bde2",
   "metadata": {},
   "outputs": [
    {
     "name": "stdin",
     "output_type": "stream",
     "text": [
      "Voce vai digitar a temperatura em qual escala (C/F)?  d\n",
      "Digite a temperatura em Fahrenheit:  3\n"
     ]
    },
    {
     "name": "stdout",
     "output_type": "stream",
     "text": [
      "Opção inválida!\n",
      "\n"
     ]
    }
   ],
   "source": [
    "# QUES08\n",
    "# .upper converte as palvras para maiuscula\n",
    "# .lower converte as palavras para minuscula\n",
    "resposta= str(input('Voce vai digitar a temperatura em qual escala (C/F)? '))\n",
    "temperatura = float(input('Digite a temperatura em Fahrenheit: '))\n",
    "saida = ''\n",
    "match resposta.lower():\n",
    "    case 'c':\n",
    "        f = (temperatura * 1.8) + 32\n",
    "        saida = f'Temperatura equivalente em Fahrenheit: {f:.2f} '    \n",
    "    case 'f':\n",
    "        c = (temperatura - 32) / 1.8\n",
    "        saida = f'Temperatura equivalente em Fahrenheit: {c:.2f} '\n",
    "    case _ :\n",
    "        print('Opção inválida!')\n",
    "print(saida)"
   ]
  },
  {
   "cell_type": "code",
   "execution_count": 57,
   "id": "b04051a5-d2e0-41c8-9ee8-6d2d9f39c774",
   "metadata": {},
   "outputs": [
    {
     "name": "stdout",
     "output_type": "stream",
     "text": [
      "Códigos de 1 a 5 \n"
     ]
    },
    {
     "name": "stdin",
     "output_type": "stream",
     "text": [
      "Entre com o código do produto:  1\n",
      "Entre com a quantidade de compra:  2\n"
     ]
    },
    {
     "name": "stdout",
     "output_type": "stream",
     "text": [
      "Total a pagar:  10\n"
     ]
    }
   ],
   "source": [
    "#QUES09\n",
    "print('Códigos de 1 a 5 ')\n",
    "cd_produto = int(input('Entre com o código do produto: '))\n",
    "qtd_compra = int(input(\"Entre com a quantidade de compra: \"))\n",
    "totao_pagar = 0\n",
    "match cd_produto:\n",
    "    case 1:\n",
    "        total_pagar = qtd_compra * 5\n",
    "    case 2:\n",
    "        total_pagar = qtd_compra * 3.5\n",
    "    case 3:\n",
    "        total_pagar = qtd_compra * 4.8\n",
    "    case 4:\n",
    "        total_pagar = qtd_compra * 8.9\n",
    "    case 5:\n",
    "        total_pagar = qtd_compra * 7.32\n",
    "    case _ :\n",
    "        print('Codigo inválido!')\n",
    "print('Total a pagar: ',total_pagar)"
   ]
  },
  {
   "cell_type": "code",
   "execution_count": 62,
   "id": "46c08f4f-a8a4-4605-911e-968a5c0d7078",
   "metadata": {},
   "outputs": [
    {
     "name": "stdout",
     "output_type": "stream",
     "text": [
      "Digite dois números: \n"
     ]
    },
    {
     "name": "stdin",
     "output_type": "stream",
     "text": [
      " 13\n",
      " 5\n"
     ]
    },
    {
     "name": "stdout",
     "output_type": "stream",
     "text": [
      "Não são multiplos\n"
     ]
    }
   ],
   "source": [
    "#ques10\n",
    "print('Digite dois números: ')\n",
    "num1 = int(input())\n",
    "num2 = int(input())\n",
    "saida = 'Não são multiplos'\n",
    "if num1 % num2 == 0 or num2 % num1 == 0:\n",
    "    saida = 'São multiplos'\n",
    "print(saida)"
   ]
  },
  {
   "cell_type": "code",
   "execution_count": 65,
   "id": "00376460-f29d-41a6-9916-27aa5d2927eb",
   "metadata": {},
   "outputs": [
    {
     "name": "stdin",
     "output_type": "stream",
     "text": [
      "Entre com seu salário:  8000\n"
     ]
    },
    {
     "name": "stdout",
     "output_type": "stream",
     "text": [
      "Saida das informações \n",
      "Novo salário: R$  8800.0\n",
      "Aumento: R$  800.0\n",
      "Percentual:  10\n"
     ]
    }
   ],
   "source": [
    "## ques11\n",
    "salario = float(input('Entre com seu salário: '))\n",
    "percentual = 20\n",
    "aumento =  (salario * percentual) / 100\n",
    "novo_salario = salario + aumento\n",
    "match salario:\n",
    "    case _ if salario > 1000 and salario < 3001:\n",
    "        percentual = 15\n",
    "        aumento =  (salario * percentual) / 100\n",
    "        novo_salario = salario + aumento\n",
    "    case _ if salario > 3000 and salario < 8001:\n",
    "        percentual = 10\n",
    "        aumento =  (salario * percentual) / 100\n",
    "        novo_salario = salario + aumento\n",
    "    case _ if salario > 8000:\n",
    "        percentual = 15\n",
    "        aumento =  (salario * percentual) / 100\n",
    "        novo_salario = salario + aumento\n",
    "print('Saida das informações ')\n",
    "print('Novo salário: R$ ',novo_salario)\n",
    "print('Aumento: R$ ',aumento)\n",
    "print('Percentual: ',percentual)"
   ]
  },
  {
   "cell_type": "code",
   "execution_count": 85,
   "id": "537dc795-4e0b-4f9c-bdf8-df72f4c893a8",
   "metadata": {},
   "outputs": [
    {
     "name": "stdin",
     "output_type": "stream",
     "text": [
      "Hora inicial:  2\n",
      "Hora final:  16\n"
     ]
    },
    {
     "name": "stdout",
     "output_type": "stream",
     "text": [
      "O JOGO DUROU 14 HORA(S) \n"
     ]
    }
   ],
   "source": [
    "# ques12\n",
    "hora_inicial = int(input('Hora inicial: '))\n",
    "hora_final = int(input('Hora final: '))\n",
    "horas = 0\n",
    "saida = ''\n",
    "if hora_inicial == 0 and hora_final == 0:\n",
    "    saida = f'O JOGO DUROU 24 HORA(S) '\n",
    "if hora_inicial < hora_final:\n",
    "    for i in range(hora_inicial,hora_final):\n",
    "        horas += 1\n",
    "    saida = f'O JOGO DUROU {horas} HORA(S) '\n",
    "elif hora_inicial > hora_final:\n",
    "    horas = 24 - hora_inicial\n",
    "    for i in range(1, hora_final):\n",
    "        horas += i\n",
    "    saida = f'O JOGO DUROU {horas+1} HORA(S)'\n",
    "print(saida)"
   ]
  },
  {
   "cell_type": "code",
   "execution_count": 92,
   "id": "d8d9f3e3-533a-4c67-bde9-503bb192635c",
   "metadata": {},
   "outputs": [
    {
     "name": "stdin",
     "output_type": "stream",
     "text": [
      "Valor de X:  3.8\n",
      "Valor de y:  0\n"
     ]
    },
    {
     "name": "stdout",
     "output_type": "stream",
     "text": [
      "Eixo X\n"
     ]
    }
   ],
   "source": [
    "# ques13\n",
    "x = float(input('Valor de X: '))\n",
    "y = float(input('Valor de y: '))\n",
    "saida = 'Origem'\n",
    "match (x, y):\n",
    "    case _ if x > 0 and y > 0:\n",
    "        saida = 'Q1'\n",
    "    case _ if x < 0 and y > 0:\n",
    "        saida = 'Q2'\n",
    "    case _ if x < 0 and y < 0:\n",
    "        saida = 'Q3'\n",
    "    case _ if x > 0 and y < 0:\n",
    "        saida = 'Q4'\n",
    "    case _ if x != 0 and y == 0:\n",
    "        saida = 'Eixo X'\n",
    "    case _ if x == 0 and y != 0:\n",
    "        saida = 'Eixo Y'\n",
    "print(saida)"
   ]
  },
  {
   "cell_type": "code",
   "execution_count": null,
   "id": "68d8590a-01c4-43d1-8050-0da3eab9be8a",
   "metadata": {},
   "outputs": [],
   "source": []
  }
 ],
 "metadata": {
  "kernelspec": {
   "display_name": "Python 3 (ipykernel)",
   "language": "python",
   "name": "python3"
  },
  "language_info": {
   "codemirror_mode": {
    "name": "ipython",
    "version": 3
   },
   "file_extension": ".py",
   "mimetype": "text/x-python",
   "name": "python",
   "nbconvert_exporter": "python",
   "pygments_lexer": "ipython3",
   "version": "3.12.7"
  }
 },
 "nbformat": 4,
 "nbformat_minor": 5
}
