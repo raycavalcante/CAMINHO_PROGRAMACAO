{
 "cells": [
  {
   "cell_type": "code",
   "execution_count": 1,
   "id": "c6cb4ad3-6576-49ba-83bb-da55fdca6f2d",
   "metadata": {},
   "outputs": [
    {
     "name": "stdin",
     "output_type": "stream",
     "text": [
      "Entre com um número:  10\n"
     ]
    },
    {
     "name": "stdout",
     "output_type": "stream",
     "text": [
      "Antecessor:  9\n"
     ]
    }
   ],
   "source": [
    "# QUES01\n",
    "num = int(input('Entre com um número: '))\n",
    "print('Antecessor: ',num -1)"
   ]
  },
  {
   "cell_type": "code",
   "execution_count": 29,
   "id": "443eae42-26c0-46ec-a2d7-bd1ee74cfcff",
   "metadata": {},
   "outputs": [
    {
     "name": "stdin",
     "output_type": "stream",
     "text": [
      "Entre com a base:  10\n",
      "Entre com a altura:  2\n"
     ]
    },
    {
     "name": "stdout",
     "output_type": "stream",
     "text": [
      "Àrea:  20\n"
     ]
    }
   ],
   "source": [
    "# QUES02\n",
    "base = int(input('Entre com a base: '))\n",
    "altura = int(input('Entre com a altura: '))\n",
    "area = base * altura\n",
    "print('Àrea: ',area)"
   ]
  },
  {
   "cell_type": "code",
   "execution_count": 35,
   "id": "5f86036f-0caa-45e4-9693-04be4bf91a51",
   "metadata": {},
   "outputs": [
    {
     "name": "stdin",
     "output_type": "stream",
     "text": [
      "Entre com o número total de eleitor:  100\n",
      "Votos brancos:  10\n",
      "Votos brancos:  10\n",
      "Votos brancos:  10\n"
     ]
    },
    {
     "name": "stdout",
     "output_type": "stream",
     "text": [
      "Percentual de votos Brancos: 10% \n",
      "Percentual de votos nulos: 10% \n",
      "Percentual de votos validos: 10% \n"
     ]
    }
   ],
   "source": [
    "# QUES03\n",
    "total_eleitor = float(input('Entre com o número total de eleitor: '))\n",
    "qtd_brancos = float(input('Votos brancos: '))\n",
    "qtd_nulos = float(input('Votos brancos: '))\n",
    "qtd_validos = float(input('Votos brancos: '))\n",
    "percen_brancos = (100 * qtd_brancos) / total_eleitor\n",
    "percen_nulos = (100 * qtd_nulos) / total_eleitor\n",
    "percen_validos = (100 * qtd_validos) / total_eleitor\n",
    "print('Percentual de votos Brancos: {:.0f}% '.format(percen_brancos))\n",
    "print('Percentual de votos nulos: {:.0f}% '.format(percen_nulos))\n",
    "print('Percentual de votos validos: {:.0f}% '.format(percen_validos))"
   ]
  },
  {
   "cell_type": "code",
   "execution_count": null,
   "id": "c172b76d-f250-4195-a2f5-6382deb8a747",
   "metadata": {},
   "outputs": [],
   "source": [
    "# QUES04\n",
    "idade = int(input('Entre com sua idade: '))\n",
    "saida = 'Infantil'\n",
    "match idade:\n",
    "    case _ if idade > 7 and idade < 11:\n",
    "        saida = 'Iniciado'\n",
    "    case _ if idade > 10 and idade < 14:\n",
    "        saida = 'Juvenil'\n",
    "    case _ if idade > 13 and idade < 18:\n",
    "        saida = 'Junior'\n",
    "    case _ if idade > 77:\n",
    "        saida = 'Sénio'\n",
    "print(saida)"
   ]
  },
  {
   "cell_type": "code",
   "execution_count": 6,
   "id": "2b6b0122-a1d2-447b-bad9-0e5955372566",
   "metadata": {},
   "outputs": [
    {
     "name": "stdin",
     "output_type": "stream",
     "text": [
      "Entre com a nota final:  20\n",
      "Entre com o percentual de frequência:  100\n"
     ]
    },
    {
     "name": "stdout",
     "output_type": "stream",
     "text": [
      "Aprovado\n"
     ]
    }
   ],
   "source": [
    "# QUES05\n",
    "nota_final = float(input('Entre com a nota final: '))\n",
    "per_frequencia = float(input('Entre com o percentual de frequência: '))\n",
    "saida = 'Reprovado por faltas'\n",
    "match (nota_final, per_frequencia):\n",
    "    case _ if per_frequencia > 74 and per_frequencia < 101 and nota_final < 6:\n",
    "        saida = 'Reprovado'\n",
    "    case _ if per_frequencia > 74 and per_frequencia < 101 and nota_final > 5 and nota_final < 9.6:\n",
    "        saida = 'Exame'\n",
    "    case _ if per_frequencia > 74 and per_frequencia < 101 and nota_final > 9 and nota_final < 21:\n",
    "        saida = 'Aprovado'\n",
    "print(saida)"
   ]
  },
  {
   "cell_type": "code",
   "execution_count": 24,
   "id": "5b95bb16-fb15-4a7d-a8c8-2d4fbd2ea00d",
   "metadata": {},
   "outputs": [
    {
     "name": "stdin",
     "output_type": "stream",
     "text": [
      "Entre com valor inicial:  1\n",
      "Entre com valor final:  10\n"
     ]
    },
    {
     "name": "stdout",
     "output_type": "stream",
     "text": [
      "Numeros pares: \n",
      "2  + 4  + 6  + 8  + 10  =  30\n"
     ]
    }
   ],
   "source": [
    "# QUES06\n",
    "inicio = int(input('Entre com valor inicial: '))\n",
    "final = int(input('Entre com valor final: '))\n",
    "soma = 0\n",
    "print('Numeros pares: ')\n",
    "while inicio <= final:\n",
    "    if inicio % 2 != 1:\n",
    "        print(inicio,end=' ')\n",
    "        if inicio != final:\n",
    "            print(end=' + ')\n",
    "        soma += inicio\n",
    "    inicio += 1\n",
    "print(' = ',soma)"
   ]
  },
  {
   "cell_type": "code",
   "execution_count": 26,
   "id": "7e4baa00-ffb6-411e-b13e-ae98d2089d00",
   "metadata": {},
   "outputs": [
    {
     "name": "stdin",
     "output_type": "stream",
     "text": [
      "Entre com o 1° número:  20\n",
      "Entre com o 2° número:  9\n",
      "Entre com o 3° número:  8\n",
      "Entre com o 4° número:  7\n",
      "Entre com o 5° número:  6\n",
      "Entre com o 6° número:  5\n",
      "Entre com o 7° número:  6\n",
      "Entre com o 8° número:  4\n",
      "Entre com o 9° número:  3\n",
      "Entre com o 10° número:  3\n"
     ]
    },
    {
     "name": "stdout",
     "output_type": "stream",
     "text": [
      "Maior:  20\n",
      "Menor:  3\n"
     ]
    }
   ],
   "source": [
    "# QUES07\n",
    "num = cont = 0\n",
    "menor = maior = 0\n",
    "while cont < 10:\n",
    "    num = int(input(f'Entre com o {cont+1}° número: '))\n",
    "    match num:\n",
    "        case _ if cont == 0:\n",
    "            menor = maior = num\n",
    "        case _ if cont > 0:\n",
    "            if num > maior:\n",
    "                maior = num\n",
    "            if num <  menor:\n",
    "                menor = num\n",
    "    cont += 1\n",
    "print('Maior: ',maior)\n",
    "print('Menor: ',menor)"
   ]
  },
  {
   "cell_type": "code",
   "execution_count": 32,
   "id": "f5419f96-d770-4603-840c-383a42a367b6",
   "metadata": {},
   "outputs": [
    {
     "name": "stdout",
     "output_type": "stream",
     "text": [
      "!Aperte zero (0) para sair\n"
     ]
    },
    {
     "name": "stdin",
     "output_type": "stream",
     "text": [
      "Entre com a idade:  10\n",
      "Entre com a idade:  0\n"
     ]
    },
    {
     "name": "stdout",
     "output_type": "stream",
     "text": [
      "Médias das idades:  5.0\n"
     ]
    }
   ],
   "source": [
    "# QUES06\n",
    "idade = 1\n",
    "soma = cont = 0\n",
    "print('!Aperte zero (0) para sair')\n",
    "while idade != 0:\n",
    "    idade = int(input('Entre com a idade: '))\n",
    "    soma += idade\n",
    "    cont += 1\n",
    "media_das_idades = (soma / cont)\n",
    "print('Médias das idades: ',media_das_idades)"
   ]
  },
  {
   "cell_type": "code",
   "execution_count": 42,
   "id": "703f1db1-aed9-4ad3-9957-38fac1d7dc75",
   "metadata": {},
   "outputs": [
    {
     "name": "stdin",
     "output_type": "stream",
     "text": [
      "Digite seu nome:  ray\n",
      "Digite sua altura:  1.6\n",
      "Digite seu peso:  60\n",
      "Digite seu nome:  sabrina\n",
      "Digite sua altura:  1.50\n",
      "Digite seu peso:  48\n"
     ]
    },
    {
     "name": "stdout",
     "output_type": "stream",
     "text": [
      "PESSOA COM MAIOR PESO: \n",
      "Nome:  ray\n",
      "Peso:  60.0\n",
      "Altura:  1.6\n",
      "PESSOA MAIS ALTA: \n",
      "Nome:  ray\n",
      "Peso:  60.0\n",
      "altura:  1.6\n"
     ]
    }
   ],
   "source": [
    "# QUES09\n",
    "for i in range(2):\n",
    "    nome = str(input('Digite seu nome: '))\n",
    "    altura = float(input('Digite sua altura: '))\n",
    "    peso = float(input('Digite seu peso: '))\n",
    "    if i == 0:\n",
    "        # pessoa mais pesda / pessoa mais alta\n",
    "        nome_pesada = nome_alta = nome\n",
    "        altura_pesada = mais_alta  = altura\n",
    "        mais_pesada = peso_alta = peso\n",
    "    else:\n",
    "        if peso > mais_pesada:\n",
    "             mais_pesada = peso\n",
    "             nome_pesada = nome\n",
    "             altura_pesada = altura\n",
    "            \n",
    "        if altura > mais_alta:\n",
    "             peso_alta = peso\n",
    "             nome_alta = nome\n",
    "             mais_alta = altura\n",
    "print('PESSOA COM MAIOR PESO: ')\n",
    "print('Nome: ',nome_pesada)\n",
    "print('Peso: ',mais_pesada)\n",
    "print('Altura: ',altura_pesada)\n",
    "print('PESSOA MAIS ALTA: ')\n",
    "print('Nome: ',nome_alta)\n",
    "print('Peso: ',peso_alta )\n",
    "print('altura: ',mais_alta)\n",
    "        "
   ]
  },
  {
   "cell_type": "code",
   "execution_count": 53,
   "id": "c907a496-df3b-4af7-b643-7664dbb1d157",
   "metadata": {},
   "outputs": [
    {
     "name": "stdout",
     "output_type": "stream",
     "text": [
      "Temperauras mensais\n",
      "janeiro : 10 \n",
      "Fevereiro : 10 \n",
      "Março : 10 \n",
      "Abril : 10 \n",
      "Maio : 10 \n",
      "Junho : 10 \n",
      "Julho : 10 \n",
      "Agosto : 10 \n",
      "Setembro : 10 \n",
      "Outubro : 10 \n",
      "Novembro : 10 \n",
      "Dezembro : 10 \n",
      "-----------------------------------------------\n",
      "Média anual:  10.0\n"
     ]
    }
   ],
   "source": [
    "# ques10\n",
    "import numpy as np\n",
    "meses = ['janeiro','Fevereiro','Março','Abril','Maio','Junho','Julho',\n",
    "'Agosto','Setembro','Outubro','Novembro','Dezembro']\n",
    "temperaturas = []\n",
    "for i in range(12):\n",
    "    temperatura = 10\n",
    "    # float(input(f'Mês de {meses[i]} temperatura média: '))\n",
    "    temperaturas.append(temperatura)\n",
    "print('Temperauras mensais')\n",
    "for index in range(len(meses)):\n",
    "    print(f'{meses[index]} : {temperaturas[index]} ')\n",
    "print('-----------------------------------------------')\n",
    "media_anual = np.mean(temperaturas)\n",
    "\n",
    "print('Média anual: ',media_anual)"
   ]
  },
  {
   "cell_type": "code",
   "execution_count": 1,
   "id": "543a4a67-827f-44e2-953c-84dd83ec686f",
   "metadata": {},
   "outputs": [
    {
     "name": "stdout",
     "output_type": "stream",
     "text": [
      "1 = sim \n",
      "0 = não\n"
     ]
    },
    {
     "name": "stdin",
     "output_type": "stream",
     "text": [
      "Telefonou para a vítima? :  0\n",
      "Esteve no local do crime? :  0\n",
      "Mora perto da vítima? :  0\n",
      "Devia para a vítima? :  1\n",
      "Já trabalhou com a vítima? :  0\n"
     ]
    },
    {
     "name": "stdout",
     "output_type": "stream",
     "text": [
      "Inocente\n"
     ]
    }
   ],
   "source": [
    "# ques11\n",
    "perguntas = [\"Telefonou para a vítima?\",\"Esteve no local do crime?\",\"Mora perto da vítima?\",\"Devia para a vítima?\",\"Já trabalhou com a vítima?\"]\n",
    "print('1 = sim \\n0 = não')\n",
    "cont = 0\n",
    "for i in range(len(perguntas)):\n",
    "    resposta = int(input(f'{perguntas[i]} : '))\n",
    "    if resposta == 1:\n",
    "        cont += 1\n",
    "saida = 'Inocente'\n",
    "match cont:\n",
    "    case _ if cont == 2:\n",
    "        saida = 'Suspeita'\n",
    "    case _ if cont == 3 or cont == 4:\n",
    "        saida = 'Cúmplice'\n",
    "    case _ if cont == 5:\n",
    "        saida = 'Cúmplice'\n",
    "print(saida)"
   ]
  },
  {
   "cell_type": "code",
   "execution_count": null,
   "id": "093e5a85-a2c2-4a17-91f8-539c573c0e1c",
   "metadata": {},
   "outputs": [],
   "source": []
  }
 ],
 "metadata": {
  "kernelspec": {
   "display_name": "Python 3 (ipykernel)",
   "language": "python",
   "name": "python3"
  },
  "language_info": {
   "codemirror_mode": {
    "name": "ipython",
    "version": 3
   },
   "file_extension": ".py",
   "mimetype": "text/x-python",
   "name": "python",
   "nbconvert_exporter": "python",
   "pygments_lexer": "ipython3",
   "version": "3.12.7"
  }
 },
 "nbformat": 4,
 "nbformat_minor": 5
}
